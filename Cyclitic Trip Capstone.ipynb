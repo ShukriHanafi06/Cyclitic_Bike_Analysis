{
 "cells": [
  {
   "cell_type": "code",
   "execution_count": 1,
   "id": "316ba00a",
   "metadata": {},
   "outputs": [],
   "source": [
    "# import all the necessary library\n",
    "import numpy as np\n",
    "import pandas as pd\n",
    "import os\n",
    "import seaborn as sns\n",
    "import matplotlib as plt\n",
    "import datetime"
   ]
  },
  {
   "cell_type": "code",
   "execution_count": 2,
   "id": "1969b4d8",
   "metadata": {},
   "outputs": [],
   "source": [
    "# import all the csv file\n",
    "divvy_2107_df = pd.read_csv('202107-divvy-tripdata.csv')\n",
    "divvy_2106_df = pd.read_csv('202106-divvy-tripdata.csv')\n",
    "divvy_2105_df = pd.read_csv('202105-divvy-tripdata.csv')\n",
    "divvy_2104_df = pd.read_csv('202104-divvy-tripdata.csv')\n",
    "divvy_2103_df = pd.read_csv('202103-divvy-tripdata.csv')\n",
    "divvy_2102_df = pd.read_csv('202102-divvy-tripdata.csv')\n",
    "divvy_2101_df = pd.read_csv('202101-divvy-tripdata.csv')\n",
    "divvy_2012_df = pd.read_csv('202012-divvy-tripdata.csv')\n",
    "divvy_2011_df = pd.read_csv('202011-divvy-tripdata.csv')\n",
    "divvy_2010_df = pd.read_csv('202010-divvy-tripdata.csv')\n",
    "divvy_2009_df = pd.read_csv('202009-divvy-tripdata.csv')\n",
    "divvy_2008_df = pd.read_csv('202008-divvy-tripdata.csv')"
   ]
  },
  {
   "cell_type": "code",
   "execution_count": 3,
   "id": "489da7c1",
   "metadata": {},
   "outputs": [
    {
     "name": "stdout",
     "output_type": "stream",
     "text": [
      "Rows & Columns for each dataset\n",
      "divvy_2107 is:  (822410, 13)\n",
      "\n",
      "divvy_2106 is:  (729595, 13)\n",
      "\n",
      "divvy_2105 is:  (531633, 13)\n",
      "\n",
      "divvy_2104 is:  (337230, 13)\n",
      "\n",
      "divvy_2103 is:  (228496, 13)\n",
      "\n",
      "divvy_2102 is:  (49622, 13)\n",
      "\n",
      "divvy_2101 is:  (96834, 13)\n",
      "\n",
      "divvy_2012 is:  (131573, 13)\n",
      "\n",
      "divvy_2011 is:  (259716, 13)\n",
      "\n",
      "divvy_2010 is:  (388653, 13)\n",
      "\n",
      "divvy_2009 is:  (532958, 13)\n",
      "\n",
      "divvy_2008 is:  (622361, 13)\n"
     ]
    }
   ],
   "source": [
    "#identify the numbers of row and columns for each dataset\n",
    "print('Rows & Columns for each dataset')\n",
    "print('divvy_2107 is: ', divvy_2107_df.shape)\n",
    "print('')\n",
    "print('divvy_2106 is: ', divvy_2106_df.shape)\n",
    "print('')\n",
    "print('divvy_2105 is: ', divvy_2105_df.shape)\n",
    "print('')\n",
    "print('divvy_2104 is: ', divvy_2104_df.shape)\n",
    "print('')\n",
    "print('divvy_2103 is: ', divvy_2103_df.shape)\n",
    "print('')\n",
    "print('divvy_2102 is: ', divvy_2102_df.shape)\n",
    "print('')\n",
    "print('divvy_2101 is: ', divvy_2101_df.shape)\n",
    "print('')\n",
    "print('divvy_2012 is: ', divvy_2012_df.shape)\n",
    "print('')\n",
    "print('divvy_2011 is: ', divvy_2011_df.shape)\n",
    "print('')\n",
    "print('divvy_2010 is: ', divvy_2010_df.shape)\n",
    "print('')\n",
    "print('divvy_2009 is: ', divvy_2009_df.shape)\n",
    "print('')\n",
    "print('divvy_2008 is: ', divvy_2008_df.shape)"
   ]
  },
  {
   "cell_type": "code",
   "execution_count": 4,
   "id": "c8449db0",
   "metadata": {},
   "outputs": [
    {
     "data": {
      "text/plain": [
       "Index(['ride_id', 'rideable_type', 'started_at', 'ended_at',\n",
       "       'start_station_name', 'start_station_id', 'end_station_name',\n",
       "       'end_station_id', 'start_lat', 'start_lng', 'end_lat', 'end_lng',\n",
       "       'member_casual'],\n",
       "      dtype='object')"
      ]
     },
     "execution_count": 4,
     "metadata": {},
     "output_type": "execute_result"
    }
   ],
   "source": [
    "#identify the columns in the dataset\n",
    "divvy_2107_df.columns"
   ]
  },
  {
   "cell_type": "code",
   "execution_count": 5,
   "id": "854df4f4",
   "metadata": {},
   "outputs": [
    {
     "data": {
      "text/plain": [
       "ride_id                object\n",
       "rideable_type          object\n",
       "started_at             object\n",
       "ended_at               object\n",
       "start_station_name     object\n",
       "start_station_id       object\n",
       "end_station_name       object\n",
       "end_station_id         object\n",
       "start_lat             float64\n",
       "start_lng             float64\n",
       "end_lat               float64\n",
       "end_lng               float64\n",
       "member_casual          object\n",
       "dtype: object"
      ]
     },
     "execution_count": 5,
     "metadata": {},
     "output_type": "execute_result"
    }
   ],
   "source": [
    "#identify the types for dataset\n",
    "divvy_2107_df.dtypes"
   ]
  },
  {
   "cell_type": "code",
   "execution_count": 6,
   "id": "3aa864bc",
   "metadata": {},
   "outputs": [],
   "source": [
    "# concat all the twelve dataset into one\n",
    "frames = [divvy_2107_df,divvy_2106_df,divvy_2105_df,divvy_2104_df,divvy_2103_df,divvy_2102_df,\n",
    "          divvy_2101_df,divvy_2012_df,divvy_2011_df,divvy_2010_df,divvy_2009_df,divvy_2008_df]"
   ]
  },
  {
   "cell_type": "code",
   "execution_count": 7,
   "id": "e6ff3d86",
   "metadata": {},
   "outputs": [],
   "source": [
    "#merge all the dataset\n",
    "divvy_df = pd.concat(frames)"
   ]
  },
  {
   "cell_type": "code",
   "execution_count": 8,
   "id": "e50f2323",
   "metadata": {},
   "outputs": [
    {
     "data": {
      "text/plain": [
       "(4731081, 13)"
      ]
     },
     "execution_count": 8,
     "metadata": {},
     "output_type": "execute_result"
    }
   ],
   "source": [
    "#determine the numbers of rows and columns\n",
    "divvy_df.shape"
   ]
  },
  {
   "cell_type": "code",
   "execution_count": 9,
   "id": "36ad0f2f",
   "metadata": {},
   "outputs": [
    {
     "data": {
      "text/html": [
       "<div>\n",
       "<style scoped>\n",
       "    .dataframe tbody tr th:only-of-type {\n",
       "        vertical-align: middle;\n",
       "    }\n",
       "\n",
       "    .dataframe tbody tr th {\n",
       "        vertical-align: top;\n",
       "    }\n",
       "\n",
       "    .dataframe thead th {\n",
       "        text-align: right;\n",
       "    }\n",
       "</style>\n",
       "<table border=\"1\" class=\"dataframe\">\n",
       "  <thead>\n",
       "    <tr style=\"text-align: right;\">\n",
       "      <th></th>\n",
       "      <th>ride_id</th>\n",
       "      <th>rideable_type</th>\n",
       "      <th>started_at</th>\n",
       "      <th>ended_at</th>\n",
       "      <th>start_station_name</th>\n",
       "      <th>start_station_id</th>\n",
       "      <th>end_station_name</th>\n",
       "      <th>end_station_id</th>\n",
       "      <th>start_lat</th>\n",
       "      <th>start_lng</th>\n",
       "      <th>end_lat</th>\n",
       "      <th>end_lng</th>\n",
       "      <th>member_casual</th>\n",
       "    </tr>\n",
       "  </thead>\n",
       "  <tbody>\n",
       "    <tr>\n",
       "      <th>0</th>\n",
       "      <td>0A1B623926EF4E16</td>\n",
       "      <td>docked_bike</td>\n",
       "      <td>2021-07-02 14:44:36</td>\n",
       "      <td>2021-07-02 15:19:58</td>\n",
       "      <td>Michigan Ave &amp; Washington St</td>\n",
       "      <td>13001</td>\n",
       "      <td>Halsted St &amp; North Branch St</td>\n",
       "      <td>KA1504000117</td>\n",
       "      <td>41.883984</td>\n",
       "      <td>-87.624684</td>\n",
       "      <td>41.899368</td>\n",
       "      <td>-87.648480</td>\n",
       "      <td>casual</td>\n",
       "    </tr>\n",
       "    <tr>\n",
       "      <th>1</th>\n",
       "      <td>B2D5583A5A5E76EE</td>\n",
       "      <td>classic_bike</td>\n",
       "      <td>2021-07-07 16:57:42</td>\n",
       "      <td>2021-07-07 17:16:09</td>\n",
       "      <td>California Ave &amp; Cortez St</td>\n",
       "      <td>17660</td>\n",
       "      <td>Wood St &amp; Hubbard St</td>\n",
       "      <td>13432</td>\n",
       "      <td>41.900363</td>\n",
       "      <td>-87.696704</td>\n",
       "      <td>41.889899</td>\n",
       "      <td>-87.671473</td>\n",
       "      <td>casual</td>\n",
       "    </tr>\n",
       "    <tr>\n",
       "      <th>2</th>\n",
       "      <td>6F264597DDBF427A</td>\n",
       "      <td>classic_bike</td>\n",
       "      <td>2021-07-25 11:30:55</td>\n",
       "      <td>2021-07-25 11:48:45</td>\n",
       "      <td>Wabash Ave &amp; 16th St</td>\n",
       "      <td>SL-012</td>\n",
       "      <td>Rush St &amp; Hubbard St</td>\n",
       "      <td>KA1503000044</td>\n",
       "      <td>41.860384</td>\n",
       "      <td>-87.625813</td>\n",
       "      <td>41.890173</td>\n",
       "      <td>-87.626185</td>\n",
       "      <td>member</td>\n",
       "    </tr>\n",
       "  </tbody>\n",
       "</table>\n",
       "</div>"
      ],
      "text/plain": [
       "            ride_id rideable_type           started_at             ended_at  \\\n",
       "0  0A1B623926EF4E16   docked_bike  2021-07-02 14:44:36  2021-07-02 15:19:58   \n",
       "1  B2D5583A5A5E76EE  classic_bike  2021-07-07 16:57:42  2021-07-07 17:16:09   \n",
       "2  6F264597DDBF427A  classic_bike  2021-07-25 11:30:55  2021-07-25 11:48:45   \n",
       "\n",
       "             start_station_name start_station_id  \\\n",
       "0  Michigan Ave & Washington St            13001   \n",
       "1    California Ave & Cortez St            17660   \n",
       "2          Wabash Ave & 16th St           SL-012   \n",
       "\n",
       "               end_station_name end_station_id  start_lat  start_lng  \\\n",
       "0  Halsted St & North Branch St   KA1504000117  41.883984 -87.624684   \n",
       "1          Wood St & Hubbard St          13432  41.900363 -87.696704   \n",
       "2          Rush St & Hubbard St   KA1503000044  41.860384 -87.625813   \n",
       "\n",
       "     end_lat    end_lng member_casual  \n",
       "0  41.899368 -87.648480        casual  \n",
       "1  41.889899 -87.671473        casual  \n",
       "2  41.890173 -87.626185        member  "
      ]
     },
     "execution_count": 9,
     "metadata": {},
     "output_type": "execute_result"
    }
   ],
   "source": [
    "divvy_df.head(3)"
   ]
  },
  {
   "cell_type": "code",
   "execution_count": 10,
   "id": "9328c536",
   "metadata": {},
   "outputs": [
    {
     "data": {
      "text/plain": [
       "ride_id                object\n",
       "rideable_type          object\n",
       "started_at             object\n",
       "ended_at               object\n",
       "start_station_name     object\n",
       "start_station_id       object\n",
       "end_station_name       object\n",
       "end_station_id         object\n",
       "start_lat             float64\n",
       "start_lng             float64\n",
       "end_lat               float64\n",
       "end_lng               float64\n",
       "member_casual          object\n",
       "dtype: object"
      ]
     },
     "execution_count": 10,
     "metadata": {},
     "output_type": "execute_result"
    }
   ],
   "source": [
    "divvy_df.dtypes"
   ]
  },
  {
   "cell_type": "code",
   "execution_count": 11,
   "id": "cda81414",
   "metadata": {},
   "outputs": [
    {
     "data": {
      "text/plain": [
       "ride_id                    0\n",
       "rideable_type              0\n",
       "started_at                 0\n",
       "ended_at                   0\n",
       "start_station_name    369182\n",
       "start_station_id      369804\n",
       "end_station_name      407300\n",
       "end_station_id        407759\n",
       "start_lat                  0\n",
       "start_lng                  0\n",
       "end_lat                 5247\n",
       "end_lng                 5247\n",
       "member_casual              0\n",
       "dtype: int64"
      ]
     },
     "execution_count": 11,
     "metadata": {},
     "output_type": "execute_result"
    }
   ],
   "source": [
    "divvy_df.isnull().sum()"
   ]
  },
  {
   "cell_type": "code",
   "execution_count": 12,
   "id": "48882065",
   "metadata": {},
   "outputs": [],
   "source": [
    "divvy_cleaned = divvy_df.dropna()"
   ]
  },
  {
   "cell_type": "code",
   "execution_count": 13,
   "id": "16ded2a8",
   "metadata": {},
   "outputs": [
    {
     "data": {
      "text/plain": [
       "(4167399, 13)"
      ]
     },
     "execution_count": 13,
     "metadata": {},
     "output_type": "execute_result"
    }
   ],
   "source": [
    "divvy_cleaned.shape"
   ]
  },
  {
   "cell_type": "code",
   "execution_count": 14,
   "id": "cc0c41c4",
   "metadata": {},
   "outputs": [
    {
     "data": {
      "text/plain": [
       "ride_id               0\n",
       "rideable_type         0\n",
       "started_at            0\n",
       "ended_at              0\n",
       "start_station_name    0\n",
       "start_station_id      0\n",
       "end_station_name      0\n",
       "end_station_id        0\n",
       "start_lat             0\n",
       "start_lng             0\n",
       "end_lat               0\n",
       "end_lng               0\n",
       "member_casual         0\n",
       "dtype: int64"
      ]
     },
     "execution_count": 14,
     "metadata": {},
     "output_type": "execute_result"
    }
   ],
   "source": [
    "divvy_cleaned.isnull().sum()"
   ]
  },
  {
   "cell_type": "code",
   "execution_count": 15,
   "id": "41c20aed",
   "metadata": {},
   "outputs": [
    {
     "name": "stderr",
     "output_type": "stream",
     "text": [
      "<ipython-input-15-54d2db6a496a>:1: SettingWithCopyWarning: \n",
      "A value is trying to be set on a copy of a slice from a DataFrame.\n",
      "Try using .loc[row_indexer,col_indexer] = value instead\n",
      "\n",
      "See the caveats in the documentation: https://pandas.pydata.org/pandas-docs/stable/user_guide/indexing.html#returning-a-view-versus-a-copy\n",
      "  divvy_cleaned['started_at'] = pd.to_datetime(divvy_cleaned['started_at'])\n",
      "<ipython-input-15-54d2db6a496a>:2: SettingWithCopyWarning: \n",
      "A value is trying to be set on a copy of a slice from a DataFrame.\n",
      "Try using .loc[row_indexer,col_indexer] = value instead\n",
      "\n",
      "See the caveats in the documentation: https://pandas.pydata.org/pandas-docs/stable/user_guide/indexing.html#returning-a-view-versus-a-copy\n",
      "  divvy_cleaned['ended_at'] = pd.to_datetime(divvy_cleaned['ended_at'])\n"
     ]
    }
   ],
   "source": [
    "divvy_cleaned['started_at'] = pd.to_datetime(divvy_cleaned['started_at'])\n",
    "divvy_cleaned['ended_at'] = pd.to_datetime(divvy_cleaned['ended_at'])"
   ]
  },
  {
   "cell_type": "code",
   "execution_count": 18,
   "id": "c39459f3",
   "metadata": {},
   "outputs": [
    {
     "data": {
      "text/plain": [
       "ride_id                        object\n",
       "rideable_type                  object\n",
       "started_at             datetime64[ns]\n",
       "ended_at               datetime64[ns]\n",
       "start_station_name             object\n",
       "start_station_id               object\n",
       "end_station_name               object\n",
       "end_station_id                 object\n",
       "start_lat                     float64\n",
       "start_lng                     float64\n",
       "end_lat                       float64\n",
       "end_lng                       float64\n",
       "member_casual                  object\n",
       "ride_length           timedelta64[ns]\n",
       "dtype: object"
      ]
     },
     "execution_count": 18,
     "metadata": {},
     "output_type": "execute_result"
    }
   ],
   "source": [
    "divvy_cleaned.dtypes"
   ]
  },
  {
   "cell_type": "code",
   "execution_count": 19,
   "id": "14202b7d",
   "metadata": {},
   "outputs": [
    {
     "name": "stderr",
     "output_type": "stream",
     "text": [
      "<ipython-input-19-739e3adac1a1>:1: SettingWithCopyWarning: \n",
      "A value is trying to be set on a copy of a slice from a DataFrame.\n",
      "Try using .loc[row_indexer,col_indexer] = value instead\n",
      "\n",
      "See the caveats in the documentation: https://pandas.pydata.org/pandas-docs/stable/user_guide/indexing.html#returning-a-view-versus-a-copy\n",
      "  divvy_cleaned['ride_length'] = divvy_cleaned['ended_at']-divvy_cleaned['started_at']\n"
     ]
    }
   ],
   "source": [
    "divvy_cleaned['ride_length'] = divvy_cleaned['ended_at']-divvy_cleaned['started_at']"
   ]
  },
  {
   "cell_type": "code",
   "execution_count": 20,
   "id": "3cfc903a",
   "metadata": {
    "scrolled": true
   },
   "outputs": [
    {
     "data": {
      "text/html": [
       "<div>\n",
       "<style scoped>\n",
       "    .dataframe tbody tr th:only-of-type {\n",
       "        vertical-align: middle;\n",
       "    }\n",
       "\n",
       "    .dataframe tbody tr th {\n",
       "        vertical-align: top;\n",
       "    }\n",
       "\n",
       "    .dataframe thead th {\n",
       "        text-align: right;\n",
       "    }\n",
       "</style>\n",
       "<table border=\"1\" class=\"dataframe\">\n",
       "  <thead>\n",
       "    <tr style=\"text-align: right;\">\n",
       "      <th></th>\n",
       "      <th>ride_id</th>\n",
       "      <th>rideable_type</th>\n",
       "      <th>started_at</th>\n",
       "      <th>ended_at</th>\n",
       "      <th>start_station_name</th>\n",
       "      <th>start_station_id</th>\n",
       "      <th>end_station_name</th>\n",
       "      <th>end_station_id</th>\n",
       "      <th>start_lat</th>\n",
       "      <th>start_lng</th>\n",
       "      <th>end_lat</th>\n",
       "      <th>end_lng</th>\n",
       "      <th>member_casual</th>\n",
       "      <th>ride_length</th>\n",
       "    </tr>\n",
       "  </thead>\n",
       "  <tbody>\n",
       "    <tr>\n",
       "      <th>0</th>\n",
       "      <td>0A1B623926EF4E16</td>\n",
       "      <td>docked_bike</td>\n",
       "      <td>2021-07-02 14:44:36</td>\n",
       "      <td>2021-07-02 15:19:58</td>\n",
       "      <td>Michigan Ave &amp; Washington St</td>\n",
       "      <td>13001</td>\n",
       "      <td>Halsted St &amp; North Branch St</td>\n",
       "      <td>KA1504000117</td>\n",
       "      <td>41.883984</td>\n",
       "      <td>-87.624684</td>\n",
       "      <td>41.899368</td>\n",
       "      <td>-87.648480</td>\n",
       "      <td>casual</td>\n",
       "      <td>0 days 00:35:22</td>\n",
       "    </tr>\n",
       "    <tr>\n",
       "      <th>1</th>\n",
       "      <td>B2D5583A5A5E76EE</td>\n",
       "      <td>classic_bike</td>\n",
       "      <td>2021-07-07 16:57:42</td>\n",
       "      <td>2021-07-07 17:16:09</td>\n",
       "      <td>California Ave &amp; Cortez St</td>\n",
       "      <td>17660</td>\n",
       "      <td>Wood St &amp; Hubbard St</td>\n",
       "      <td>13432</td>\n",
       "      <td>41.900363</td>\n",
       "      <td>-87.696704</td>\n",
       "      <td>41.889899</td>\n",
       "      <td>-87.671473</td>\n",
       "      <td>casual</td>\n",
       "      <td>0 days 00:18:27</td>\n",
       "    </tr>\n",
       "    <tr>\n",
       "      <th>2</th>\n",
       "      <td>6F264597DDBF427A</td>\n",
       "      <td>classic_bike</td>\n",
       "      <td>2021-07-25 11:30:55</td>\n",
       "      <td>2021-07-25 11:48:45</td>\n",
       "      <td>Wabash Ave &amp; 16th St</td>\n",
       "      <td>SL-012</td>\n",
       "      <td>Rush St &amp; Hubbard St</td>\n",
       "      <td>KA1503000044</td>\n",
       "      <td>41.860384</td>\n",
       "      <td>-87.625813</td>\n",
       "      <td>41.890173</td>\n",
       "      <td>-87.626185</td>\n",
       "      <td>member</td>\n",
       "      <td>0 days 00:17:50</td>\n",
       "    </tr>\n",
       "  </tbody>\n",
       "</table>\n",
       "</div>"
      ],
      "text/plain": [
       "            ride_id rideable_type          started_at            ended_at  \\\n",
       "0  0A1B623926EF4E16   docked_bike 2021-07-02 14:44:36 2021-07-02 15:19:58   \n",
       "1  B2D5583A5A5E76EE  classic_bike 2021-07-07 16:57:42 2021-07-07 17:16:09   \n",
       "2  6F264597DDBF427A  classic_bike 2021-07-25 11:30:55 2021-07-25 11:48:45   \n",
       "\n",
       "             start_station_name start_station_id  \\\n",
       "0  Michigan Ave & Washington St            13001   \n",
       "1    California Ave & Cortez St            17660   \n",
       "2          Wabash Ave & 16th St           SL-012   \n",
       "\n",
       "               end_station_name end_station_id  start_lat  start_lng  \\\n",
       "0  Halsted St & North Branch St   KA1504000117  41.883984 -87.624684   \n",
       "1          Wood St & Hubbard St          13432  41.900363 -87.696704   \n",
       "2          Rush St & Hubbard St   KA1503000044  41.860384 -87.625813   \n",
       "\n",
       "     end_lat    end_lng member_casual     ride_length  \n",
       "0  41.899368 -87.648480        casual 0 days 00:35:22  \n",
       "1  41.889899 -87.671473        casual 0 days 00:18:27  \n",
       "2  41.890173 -87.626185        member 0 days 00:17:50  "
      ]
     },
     "execution_count": 20,
     "metadata": {},
     "output_type": "execute_result"
    }
   ],
   "source": [
    "divvy_cleaned.head(3)"
   ]
  },
  {
   "cell_type": "code",
   "execution_count": 21,
   "id": "34524b2a",
   "metadata": {},
   "outputs": [
    {
     "data": {
      "text/plain": [
       "ride_id                        object\n",
       "rideable_type                  object\n",
       "started_at             datetime64[ns]\n",
       "ended_at               datetime64[ns]\n",
       "start_station_name             object\n",
       "start_station_id               object\n",
       "end_station_name               object\n",
       "end_station_id                 object\n",
       "start_lat                     float64\n",
       "start_lng                     float64\n",
       "end_lat                       float64\n",
       "end_lng                       float64\n",
       "member_casual                  object\n",
       "ride_length           timedelta64[ns]\n",
       "dtype: object"
      ]
     },
     "execution_count": 21,
     "metadata": {},
     "output_type": "execute_result"
    }
   ],
   "source": [
    "divvy_cleaned.dtypes"
   ]
  },
  {
   "cell_type": "code",
   "execution_count": 22,
   "id": "86150f18",
   "metadata": {},
   "outputs": [
    {
     "name": "stderr",
     "output_type": "stream",
     "text": [
      "<ipython-input-22-aab22556ea43>:1: SettingWithCopyWarning: \n",
      "A value is trying to be set on a copy of a slice from a DataFrame.\n",
      "Try using .loc[row_indexer,col_indexer] = value instead\n",
      "\n",
      "See the caveats in the documentation: https://pandas.pydata.org/pandas-docs/stable/user_guide/indexing.html#returning-a-view-versus-a-copy\n",
      "  divvy_cleaned['ride_min'] = divvy_cleaned['ride_length'].astype('timedelta64[m]')\n"
     ]
    }
   ],
   "source": [
    "divvy_cleaned['ride_min'] = divvy_cleaned['ride_length'].astype('timedelta64[m]')"
   ]
  },
  {
   "cell_type": "code",
   "execution_count": 23,
   "id": "2ffb59b5",
   "metadata": {
    "scrolled": false
   },
   "outputs": [
    {
     "data": {
      "text/html": [
       "<div>\n",
       "<style scoped>\n",
       "    .dataframe tbody tr th:only-of-type {\n",
       "        vertical-align: middle;\n",
       "    }\n",
       "\n",
       "    .dataframe tbody tr th {\n",
       "        vertical-align: top;\n",
       "    }\n",
       "\n",
       "    .dataframe thead th {\n",
       "        text-align: right;\n",
       "    }\n",
       "</style>\n",
       "<table border=\"1\" class=\"dataframe\">\n",
       "  <thead>\n",
       "    <tr style=\"text-align: right;\">\n",
       "      <th></th>\n",
       "      <th>ride_id</th>\n",
       "      <th>rideable_type</th>\n",
       "      <th>started_at</th>\n",
       "      <th>ended_at</th>\n",
       "      <th>start_station_name</th>\n",
       "      <th>start_station_id</th>\n",
       "      <th>end_station_name</th>\n",
       "      <th>end_station_id</th>\n",
       "      <th>start_lat</th>\n",
       "      <th>start_lng</th>\n",
       "      <th>end_lat</th>\n",
       "      <th>end_lng</th>\n",
       "      <th>member_casual</th>\n",
       "      <th>ride_length</th>\n",
       "      <th>ride_min</th>\n",
       "    </tr>\n",
       "  </thead>\n",
       "  <tbody>\n",
       "    <tr>\n",
       "      <th>0</th>\n",
       "      <td>0A1B623926EF4E16</td>\n",
       "      <td>docked_bike</td>\n",
       "      <td>2021-07-02 14:44:36</td>\n",
       "      <td>2021-07-02 15:19:58</td>\n",
       "      <td>Michigan Ave &amp; Washington St</td>\n",
       "      <td>13001</td>\n",
       "      <td>Halsted St &amp; North Branch St</td>\n",
       "      <td>KA1504000117</td>\n",
       "      <td>41.883984</td>\n",
       "      <td>-87.624684</td>\n",
       "      <td>41.899368</td>\n",
       "      <td>-87.648480</td>\n",
       "      <td>casual</td>\n",
       "      <td>0 days 00:35:22</td>\n",
       "      <td>35.0</td>\n",
       "    </tr>\n",
       "    <tr>\n",
       "      <th>1</th>\n",
       "      <td>B2D5583A5A5E76EE</td>\n",
       "      <td>classic_bike</td>\n",
       "      <td>2021-07-07 16:57:42</td>\n",
       "      <td>2021-07-07 17:16:09</td>\n",
       "      <td>California Ave &amp; Cortez St</td>\n",
       "      <td>17660</td>\n",
       "      <td>Wood St &amp; Hubbard St</td>\n",
       "      <td>13432</td>\n",
       "      <td>41.900363</td>\n",
       "      <td>-87.696704</td>\n",
       "      <td>41.889899</td>\n",
       "      <td>-87.671473</td>\n",
       "      <td>casual</td>\n",
       "      <td>0 days 00:18:27</td>\n",
       "      <td>18.0</td>\n",
       "    </tr>\n",
       "    <tr>\n",
       "      <th>2</th>\n",
       "      <td>6F264597DDBF427A</td>\n",
       "      <td>classic_bike</td>\n",
       "      <td>2021-07-25 11:30:55</td>\n",
       "      <td>2021-07-25 11:48:45</td>\n",
       "      <td>Wabash Ave &amp; 16th St</td>\n",
       "      <td>SL-012</td>\n",
       "      <td>Rush St &amp; Hubbard St</td>\n",
       "      <td>KA1503000044</td>\n",
       "      <td>41.860384</td>\n",
       "      <td>-87.625813</td>\n",
       "      <td>41.890173</td>\n",
       "      <td>-87.626185</td>\n",
       "      <td>member</td>\n",
       "      <td>0 days 00:17:50</td>\n",
       "      <td>17.0</td>\n",
       "    </tr>\n",
       "  </tbody>\n",
       "</table>\n",
       "</div>"
      ],
      "text/plain": [
       "            ride_id rideable_type          started_at            ended_at  \\\n",
       "0  0A1B623926EF4E16   docked_bike 2021-07-02 14:44:36 2021-07-02 15:19:58   \n",
       "1  B2D5583A5A5E76EE  classic_bike 2021-07-07 16:57:42 2021-07-07 17:16:09   \n",
       "2  6F264597DDBF427A  classic_bike 2021-07-25 11:30:55 2021-07-25 11:48:45   \n",
       "\n",
       "             start_station_name start_station_id  \\\n",
       "0  Michigan Ave & Washington St            13001   \n",
       "1    California Ave & Cortez St            17660   \n",
       "2          Wabash Ave & 16th St           SL-012   \n",
       "\n",
       "               end_station_name end_station_id  start_lat  start_lng  \\\n",
       "0  Halsted St & North Branch St   KA1504000117  41.883984 -87.624684   \n",
       "1          Wood St & Hubbard St          13432  41.900363 -87.696704   \n",
       "2          Rush St & Hubbard St   KA1503000044  41.860384 -87.625813   \n",
       "\n",
       "     end_lat    end_lng member_casual     ride_length  ride_min  \n",
       "0  41.899368 -87.648480        casual 0 days 00:35:22      35.0  \n",
       "1  41.889899 -87.671473        casual 0 days 00:18:27      18.0  \n",
       "2  41.890173 -87.626185        member 0 days 00:17:50      17.0  "
      ]
     },
     "execution_count": 23,
     "metadata": {},
     "output_type": "execute_result"
    }
   ],
   "source": [
    "divvy_cleaned.head(3)"
   ]
  },
  {
   "cell_type": "code",
   "execution_count": 24,
   "id": "b426fb8e",
   "metadata": {
    "scrolled": true
   },
   "outputs": [
    {
     "data": {
      "text/html": [
       "<div>\n",
       "<style scoped>\n",
       "    .dataframe tbody tr th:only-of-type {\n",
       "        vertical-align: middle;\n",
       "    }\n",
       "\n",
       "    .dataframe tbody tr th {\n",
       "        vertical-align: top;\n",
       "    }\n",
       "\n",
       "    .dataframe thead th {\n",
       "        text-align: right;\n",
       "    }\n",
       "</style>\n",
       "<table border=\"1\" class=\"dataframe\">\n",
       "  <thead>\n",
       "    <tr style=\"text-align: right;\">\n",
       "      <th></th>\n",
       "      <th>ride_id</th>\n",
       "      <th>rideable_type</th>\n",
       "      <th>started_at</th>\n",
       "      <th>ended_at</th>\n",
       "      <th>start_station_name</th>\n",
       "      <th>start_station_id</th>\n",
       "      <th>end_station_name</th>\n",
       "      <th>end_station_id</th>\n",
       "      <th>start_lat</th>\n",
       "      <th>start_lng</th>\n",
       "      <th>end_lat</th>\n",
       "      <th>end_lng</th>\n",
       "      <th>member_casual</th>\n",
       "      <th>ride_length</th>\n",
       "      <th>ride_min</th>\n",
       "    </tr>\n",
       "  </thead>\n",
       "  <tbody>\n",
       "    <tr>\n",
       "      <th>18274</th>\n",
       "      <td>949B99D7B6977EA5</td>\n",
       "      <td>classic_bike</td>\n",
       "      <td>2021-12-02 23:52:00</td>\n",
       "      <td>2021-02-13 00:13:00</td>\n",
       "      <td>Peoria St &amp; Jackson Blvd</td>\n",
       "      <td>13158</td>\n",
       "      <td>Wabash Ave &amp; Grand Ave</td>\n",
       "      <td>TA1307000117</td>\n",
       "      <td>41.877642</td>\n",
       "      <td>-87.649618</td>\n",
       "      <td>41.891466</td>\n",
       "      <td>-87.626761</td>\n",
       "      <td>casual</td>\n",
       "      <td>-293 days +00:21:00</td>\n",
       "      <td>-421899.0</td>\n",
       "    </tr>\n",
       "    <tr>\n",
       "      <th>27967</th>\n",
       "      <td>64BA542B8A0C0410</td>\n",
       "      <td>docked_bike</td>\n",
       "      <td>2021-12-02 23:43:00</td>\n",
       "      <td>2021-02-13 00:08:00</td>\n",
       "      <td>Glenwood Ave &amp; Morse Ave</td>\n",
       "      <td>KA1504000175</td>\n",
       "      <td>Sheridan Rd &amp; Columbia Ave</td>\n",
       "      <td>660</td>\n",
       "      <td>42.007972</td>\n",
       "      <td>-87.665502</td>\n",
       "      <td>42.004583</td>\n",
       "      <td>-87.661406</td>\n",
       "      <td>casual</td>\n",
       "      <td>-293 days +00:25:00</td>\n",
       "      <td>-421895.0</td>\n",
       "    </tr>\n",
       "    <tr>\n",
       "      <th>29411</th>\n",
       "      <td>AA0B89C785596947</td>\n",
       "      <td>docked_bike</td>\n",
       "      <td>2021-12-02 23:40:00</td>\n",
       "      <td>2021-02-13 00:06:00</td>\n",
       "      <td>Southport Ave &amp; Waveland Ave</td>\n",
       "      <td>13235</td>\n",
       "      <td>Southport Ave &amp; Irving Park Rd</td>\n",
       "      <td>TA1309000043</td>\n",
       "      <td>41.948150</td>\n",
       "      <td>-87.663940</td>\n",
       "      <td>41.954177</td>\n",
       "      <td>-87.664358</td>\n",
       "      <td>casual</td>\n",
       "      <td>-293 days +00:26:00</td>\n",
       "      <td>-421894.0</td>\n",
       "    </tr>\n",
       "  </tbody>\n",
       "</table>\n",
       "</div>"
      ],
      "text/plain": [
       "                ride_id rideable_type          started_at            ended_at  \\\n",
       "18274  949B99D7B6977EA5  classic_bike 2021-12-02 23:52:00 2021-02-13 00:13:00   \n",
       "27967  64BA542B8A0C0410   docked_bike 2021-12-02 23:43:00 2021-02-13 00:08:00   \n",
       "29411  AA0B89C785596947   docked_bike 2021-12-02 23:40:00 2021-02-13 00:06:00   \n",
       "\n",
       "                 start_station_name start_station_id  \\\n",
       "18274      Peoria St & Jackson Blvd            13158   \n",
       "27967      Glenwood Ave & Morse Ave     KA1504000175   \n",
       "29411  Southport Ave & Waveland Ave            13235   \n",
       "\n",
       "                     end_station_name end_station_id  start_lat  start_lng  \\\n",
       "18274          Wabash Ave & Grand Ave   TA1307000117  41.877642 -87.649618   \n",
       "27967      Sheridan Rd & Columbia Ave            660  42.007972 -87.665502   \n",
       "29411  Southport Ave & Irving Park Rd   TA1309000043  41.948150 -87.663940   \n",
       "\n",
       "         end_lat    end_lng member_casual         ride_length  ride_min  \n",
       "18274  41.891466 -87.626761        casual -293 days +00:21:00 -421899.0  \n",
       "27967  42.004583 -87.661406        casual -293 days +00:25:00 -421895.0  \n",
       "29411  41.954177 -87.664358        casual -293 days +00:26:00 -421894.0  "
      ]
     },
     "execution_count": 24,
     "metadata": {},
     "output_type": "execute_result"
    }
   ],
   "source": [
    "divvy_cleaned.sort_values(['ride_length'],ascending=1).head(3)"
   ]
  },
  {
   "cell_type": "code",
   "execution_count": 23,
   "id": "0b0e4934",
   "metadata": {},
   "outputs": [],
   "source": [
    "#since I notice the min value of ride_length is negative, i investigate the format of database before concat"
   ]
  },
  {
   "cell_type": "code",
   "execution_count": 25,
   "id": "a09daa7c",
   "metadata": {},
   "outputs": [
    {
     "data": {
      "text/plain": [
       "8056"
      ]
     },
     "execution_count": 25,
     "metadata": {},
     "output_type": "execute_result"
    }
   ],
   "source": [
    "(divvy_cleaned['ride_min'] < 0).sum()"
   ]
  },
  {
   "cell_type": "code",
   "execution_count": 26,
   "id": "b4b70f7e",
   "metadata": {},
   "outputs": [
    {
     "name": "stderr",
     "output_type": "stream",
     "text": [
      "C:\\Users\\Asus\\anaconda3\\lib\\site-packages\\pandas\\core\\frame.py:4308: SettingWithCopyWarning: \n",
      "A value is trying to be set on a copy of a slice from a DataFrame\n",
      "\n",
      "See the caveats in the documentation: https://pandas.pydata.org/pandas-docs/stable/user_guide/indexing.html#returning-a-view-versus-a-copy\n",
      "  return super().drop(\n"
     ]
    }
   ],
   "source": [
    "divvy_cleaned.drop(divvy_cleaned[divvy_cleaned.ride_min < 0].index,inplace=True)"
   ]
  },
  {
   "cell_type": "code",
   "execution_count": 27,
   "id": "632928a3",
   "metadata": {},
   "outputs": [
    {
     "data": {
      "text/plain": [
       "0"
      ]
     },
     "execution_count": 27,
     "metadata": {},
     "output_type": "execute_result"
    }
   ],
   "source": [
    "(divvy_cleaned['ride_min'] < 0).sum()"
   ]
  },
  {
   "cell_type": "code",
   "execution_count": 28,
   "id": "6d50c160",
   "metadata": {},
   "outputs": [
    {
     "data": {
      "text/plain": [
       "24.445485994785194"
      ]
     },
     "execution_count": 28,
     "metadata": {},
     "output_type": "execute_result"
    }
   ],
   "source": [
    "divvy_cleaned['ride_min'].mean()"
   ]
  },
  {
   "cell_type": "code",
   "execution_count": 29,
   "id": "1c22d51f",
   "metadata": {},
   "outputs": [
    {
     "data": {
      "text/plain": [
       "0.0"
      ]
     },
     "execution_count": 29,
     "metadata": {},
     "output_type": "execute_result"
    }
   ],
   "source": [
    "divvy_cleaned['ride_min'].min()"
   ]
  },
  {
   "cell_type": "code",
   "execution_count": 30,
   "id": "f760db7a",
   "metadata": {},
   "outputs": [
    {
     "name": "stderr",
     "output_type": "stream",
     "text": [
      "<ipython-input-30-ced4d7d20801>:1: SettingWithCopyWarning: \n",
      "A value is trying to be set on a copy of a slice from a DataFrame.\n",
      "Try using .loc[row_indexer,col_indexer] = value instead\n",
      "\n",
      "See the caveats in the documentation: https://pandas.pydata.org/pandas-docs/stable/user_guide/indexing.html#returning-a-view-versus-a-copy\n",
      "  divvy_cleaned['day_of_week'] = divvy_cleaned['started_at'].dt.dayofweek\n",
      "<ipython-input-30-ced4d7d20801>:2: SettingWithCopyWarning: \n",
      "A value is trying to be set on a copy of a slice from a DataFrame.\n",
      "Try using .loc[row_indexer,col_indexer] = value instead\n",
      "\n",
      "See the caveats in the documentation: https://pandas.pydata.org/pandas-docs/stable/user_guide/indexing.html#returning-a-view-versus-a-copy\n",
      "  divvy_cleaned['Month'] = divvy_cleaned['started_at'].dt.month\n",
      "<ipython-input-30-ced4d7d20801>:3: SettingWithCopyWarning: \n",
      "A value is trying to be set on a copy of a slice from a DataFrame.\n",
      "Try using .loc[row_indexer,col_indexer] = value instead\n",
      "\n",
      "See the caveats in the documentation: https://pandas.pydata.org/pandas-docs/stable/user_guide/indexing.html#returning-a-view-versus-a-copy\n",
      "  divvy_cleaned['Year'] = divvy_cleaned['started_at'].dt.year\n"
     ]
    }
   ],
   "source": [
    "divvy_cleaned['day_of_week'] = divvy_cleaned['started_at'].dt.dayofweek\n",
    "divvy_cleaned['Month'] = divvy_cleaned['started_at'].dt.month\n",
    "divvy_cleaned['Year'] = divvy_cleaned['started_at'].dt.year"
   ]
  },
  {
   "cell_type": "code",
   "execution_count": 31,
   "id": "9b29783a",
   "metadata": {
    "scrolled": true
   },
   "outputs": [
    {
     "data": {
      "text/html": [
       "<div>\n",
       "<style scoped>\n",
       "    .dataframe tbody tr th:only-of-type {\n",
       "        vertical-align: middle;\n",
       "    }\n",
       "\n",
       "    .dataframe tbody tr th {\n",
       "        vertical-align: top;\n",
       "    }\n",
       "\n",
       "    .dataframe thead th {\n",
       "        text-align: right;\n",
       "    }\n",
       "</style>\n",
       "<table border=\"1\" class=\"dataframe\">\n",
       "  <thead>\n",
       "    <tr style=\"text-align: right;\">\n",
       "      <th></th>\n",
       "      <th>ride_id</th>\n",
       "      <th>rideable_type</th>\n",
       "      <th>started_at</th>\n",
       "      <th>ended_at</th>\n",
       "      <th>start_station_name</th>\n",
       "      <th>start_station_id</th>\n",
       "      <th>end_station_name</th>\n",
       "      <th>end_station_id</th>\n",
       "      <th>start_lat</th>\n",
       "      <th>start_lng</th>\n",
       "      <th>end_lat</th>\n",
       "      <th>end_lng</th>\n",
       "      <th>member_casual</th>\n",
       "      <th>ride_length</th>\n",
       "      <th>ride_min</th>\n",
       "      <th>day_of_week</th>\n",
       "      <th>Month</th>\n",
       "      <th>Year</th>\n",
       "    </tr>\n",
       "  </thead>\n",
       "  <tbody>\n",
       "    <tr>\n",
       "      <th>0</th>\n",
       "      <td>0A1B623926EF4E16</td>\n",
       "      <td>docked_bike</td>\n",
       "      <td>2021-07-02 14:44:36</td>\n",
       "      <td>2021-07-02 15:19:58</td>\n",
       "      <td>Michigan Ave &amp; Washington St</td>\n",
       "      <td>13001</td>\n",
       "      <td>Halsted St &amp; North Branch St</td>\n",
       "      <td>KA1504000117</td>\n",
       "      <td>41.883984</td>\n",
       "      <td>-87.624684</td>\n",
       "      <td>41.899368</td>\n",
       "      <td>-87.648480</td>\n",
       "      <td>casual</td>\n",
       "      <td>0 days 00:35:22</td>\n",
       "      <td>35.0</td>\n",
       "      <td>4</td>\n",
       "      <td>7</td>\n",
       "      <td>2021</td>\n",
       "    </tr>\n",
       "    <tr>\n",
       "      <th>1</th>\n",
       "      <td>B2D5583A5A5E76EE</td>\n",
       "      <td>classic_bike</td>\n",
       "      <td>2021-07-07 16:57:42</td>\n",
       "      <td>2021-07-07 17:16:09</td>\n",
       "      <td>California Ave &amp; Cortez St</td>\n",
       "      <td>17660</td>\n",
       "      <td>Wood St &amp; Hubbard St</td>\n",
       "      <td>13432</td>\n",
       "      <td>41.900363</td>\n",
       "      <td>-87.696704</td>\n",
       "      <td>41.889899</td>\n",
       "      <td>-87.671473</td>\n",
       "      <td>casual</td>\n",
       "      <td>0 days 00:18:27</td>\n",
       "      <td>18.0</td>\n",
       "      <td>2</td>\n",
       "      <td>7</td>\n",
       "      <td>2021</td>\n",
       "    </tr>\n",
       "    <tr>\n",
       "      <th>2</th>\n",
       "      <td>6F264597DDBF427A</td>\n",
       "      <td>classic_bike</td>\n",
       "      <td>2021-07-25 11:30:55</td>\n",
       "      <td>2021-07-25 11:48:45</td>\n",
       "      <td>Wabash Ave &amp; 16th St</td>\n",
       "      <td>SL-012</td>\n",
       "      <td>Rush St &amp; Hubbard St</td>\n",
       "      <td>KA1503000044</td>\n",
       "      <td>41.860384</td>\n",
       "      <td>-87.625813</td>\n",
       "      <td>41.890173</td>\n",
       "      <td>-87.626185</td>\n",
       "      <td>member</td>\n",
       "      <td>0 days 00:17:50</td>\n",
       "      <td>17.0</td>\n",
       "      <td>6</td>\n",
       "      <td>7</td>\n",
       "      <td>2021</td>\n",
       "    </tr>\n",
       "  </tbody>\n",
       "</table>\n",
       "</div>"
      ],
      "text/plain": [
       "            ride_id rideable_type          started_at            ended_at  \\\n",
       "0  0A1B623926EF4E16   docked_bike 2021-07-02 14:44:36 2021-07-02 15:19:58   \n",
       "1  B2D5583A5A5E76EE  classic_bike 2021-07-07 16:57:42 2021-07-07 17:16:09   \n",
       "2  6F264597DDBF427A  classic_bike 2021-07-25 11:30:55 2021-07-25 11:48:45   \n",
       "\n",
       "             start_station_name start_station_id  \\\n",
       "0  Michigan Ave & Washington St            13001   \n",
       "1    California Ave & Cortez St            17660   \n",
       "2          Wabash Ave & 16th St           SL-012   \n",
       "\n",
       "               end_station_name end_station_id  start_lat  start_lng  \\\n",
       "0  Halsted St & North Branch St   KA1504000117  41.883984 -87.624684   \n",
       "1          Wood St & Hubbard St          13432  41.900363 -87.696704   \n",
       "2          Rush St & Hubbard St   KA1503000044  41.860384 -87.625813   \n",
       "\n",
       "     end_lat    end_lng member_casual     ride_length  ride_min  day_of_week  \\\n",
       "0  41.899368 -87.648480        casual 0 days 00:35:22      35.0            4   \n",
       "1  41.889899 -87.671473        casual 0 days 00:18:27      18.0            2   \n",
       "2  41.890173 -87.626185        member 0 days 00:17:50      17.0            6   \n",
       "\n",
       "   Month  Year  \n",
       "0      7  2021  \n",
       "1      7  2021  \n",
       "2      7  2021  "
      ]
     },
     "execution_count": 31,
     "metadata": {},
     "output_type": "execute_result"
    }
   ],
   "source": [
    "divvy_cleaned.head(3)"
   ]
  },
  {
   "cell_type": "code",
   "execution_count": 32,
   "id": "17ece48e",
   "metadata": {},
   "outputs": [
    {
     "name": "stderr",
     "output_type": "stream",
     "text": [
      "<ipython-input-32-017180d271da>:1: SettingWithCopyWarning: \n",
      "A value is trying to be set on a copy of a slice from a DataFrame.\n",
      "Try using .loc[row_indexer,col_indexer] = value instead\n",
      "\n",
      "See the caveats in the documentation: https://pandas.pydata.org/pandas-docs/stable/user_guide/indexing.html#returning-a-view-versus-a-copy\n",
      "  divvy_cleaned['new_year_month'] = divvy_cleaned['started_at'].dt.strftime('%Y-%m')\n"
     ]
    }
   ],
   "source": [
    "divvy_cleaned['new_year_month'] = divvy_cleaned['started_at'].dt.strftime('%Y-%m') "
   ]
  },
  {
   "cell_type": "code",
   "execution_count": 33,
   "id": "1cd37a02",
   "metadata": {},
   "outputs": [
    {
     "name": "stderr",
     "output_type": "stream",
     "text": [
      "<ipython-input-33-0d343f03ce24>:1: SettingWithCopyWarning: \n",
      "A value is trying to be set on a copy of a slice from a DataFrame.\n",
      "Try using .loc[row_indexer,col_indexer] = value instead\n",
      "\n",
      "See the caveats in the documentation: https://pandas.pydata.org/pandas-docs/stable/user_guide/indexing.html#returning-a-view-versus-a-copy\n",
      "  divvy_cleaned['Year_Month'] = divvy_cleaned['Year'].astype('str') + divvy_cleaned['Month'].astype('str')\n"
     ]
    }
   ],
   "source": [
    "divvy_cleaned['Year_Month'] = divvy_cleaned['Year'].astype('str') + divvy_cleaned['Month'].astype('str') "
   ]
  },
  {
   "cell_type": "code",
   "execution_count": 34,
   "id": "972ebe98",
   "metadata": {},
   "outputs": [
    {
     "name": "stderr",
     "output_type": "stream",
     "text": [
      "<ipython-input-34-f8491ff16a7f>:1: SettingWithCopyWarning: \n",
      "A value is trying to be set on a copy of a slice from a DataFrame.\n",
      "Try using .loc[row_indexer,col_indexer] = value instead\n",
      "\n",
      "See the caveats in the documentation: https://pandas.pydata.org/pandas-docs/stable/user_guide/indexing.html#returning-a-view-versus-a-copy\n",
      "  divvy_cleaned['Year_Month'] = pd.to_numeric(divvy_cleaned['Year_Month'])\n"
     ]
    }
   ],
   "source": [
    "divvy_cleaned['Year_Month'] = pd.to_numeric(divvy_cleaned['Year_Month'])"
   ]
  },
  {
   "cell_type": "code",
   "execution_count": 35,
   "id": "7e381fe6",
   "metadata": {},
   "outputs": [
    {
     "data": {
      "text/plain": [
       "ride_id                        object\n",
       "rideable_type                  object\n",
       "started_at             datetime64[ns]\n",
       "ended_at               datetime64[ns]\n",
       "start_station_name             object\n",
       "start_station_id               object\n",
       "end_station_name               object\n",
       "end_station_id                 object\n",
       "start_lat                     float64\n",
       "start_lng                     float64\n",
       "end_lat                       float64\n",
       "end_lng                       float64\n",
       "member_casual                  object\n",
       "ride_length           timedelta64[ns]\n",
       "ride_min                      float64\n",
       "day_of_week                     int64\n",
       "Month                           int64\n",
       "Year                            int64\n",
       "new_year_month                 object\n",
       "Year_Month                      int64\n",
       "dtype: object"
      ]
     },
     "execution_count": 35,
     "metadata": {},
     "output_type": "execute_result"
    }
   ],
   "source": [
    "divvy_cleaned.dtypes"
   ]
  },
  {
   "cell_type": "code",
   "execution_count": 36,
   "id": "8aaa9752",
   "metadata": {},
   "outputs": [
    {
     "data": {
      "text/plain": [
       "ride_id               1527\n",
       "rideable_type         1527\n",
       "started_at            1527\n",
       "ended_at              1527\n",
       "start_station_name    1527\n",
       "start_station_id      1527\n",
       "end_station_name      1527\n",
       "end_station_id        1527\n",
       "start_lat             1527\n",
       "start_lng             1527\n",
       "end_lat               1527\n",
       "end_lng               1527\n",
       "member_casual         1527\n",
       "ride_length           1527\n",
       "ride_min              1527\n",
       "day_of_week           1527\n",
       "Month                 1527\n",
       "Year                  1527\n",
       "new_year_month        1527\n",
       "Year_Month            1527\n",
       "dtype: int64"
      ]
     },
     "execution_count": 36,
     "metadata": {},
     "output_type": "execute_result"
    }
   ],
   "source": [
    "divvy_cleaned[(divvy_cleaned['Year_Month'] == 202112)].count()"
   ]
  },
  {
   "cell_type": "code",
   "execution_count": 37,
   "id": "b66cd8cf",
   "metadata": {},
   "outputs": [
    {
     "name": "stderr",
     "output_type": "stream",
     "text": [
      "C:\\Users\\Asus\\anaconda3\\lib\\site-packages\\pandas\\core\\frame.py:4308: SettingWithCopyWarning: \n",
      "A value is trying to be set on a copy of a slice from a DataFrame\n",
      "\n",
      "See the caveats in the documentation: https://pandas.pydata.org/pandas-docs/stable/user_guide/indexing.html#returning-a-view-versus-a-copy\n",
      "  return super().drop(\n",
      "C:\\Users\\Asus\\anaconda3\\lib\\site-packages\\pandas\\core\\frame.py:4308: SettingWithCopyWarning: \n",
      "A value is trying to be set on a copy of a slice from a DataFrame\n",
      "\n",
      "See the caveats in the documentation: https://pandas.pydata.org/pandas-docs/stable/user_guide/indexing.html#returning-a-view-versus-a-copy\n",
      "  return super().drop(\n",
      "C:\\Users\\Asus\\anaconda3\\lib\\site-packages\\pandas\\core\\frame.py:4308: SettingWithCopyWarning: \n",
      "A value is trying to be set on a copy of a slice from a DataFrame\n",
      "\n",
      "See the caveats in the documentation: https://pandas.pydata.org/pandas-docs/stable/user_guide/indexing.html#returning-a-view-versus-a-copy\n",
      "  return super().drop(\n",
      "C:\\Users\\Asus\\anaconda3\\lib\\site-packages\\pandas\\core\\frame.py:4308: SettingWithCopyWarning: \n",
      "A value is trying to be set on a copy of a slice from a DataFrame\n",
      "\n",
      "See the caveats in the documentation: https://pandas.pydata.org/pandas-docs/stable/user_guide/indexing.html#returning-a-view-versus-a-copy\n",
      "  return super().drop(\n",
      "C:\\Users\\Asus\\anaconda3\\lib\\site-packages\\pandas\\core\\frame.py:4308: SettingWithCopyWarning: \n",
      "A value is trying to be set on a copy of a slice from a DataFrame\n",
      "\n",
      "See the caveats in the documentation: https://pandas.pydata.org/pandas-docs/stable/user_guide/indexing.html#returning-a-view-versus-a-copy\n",
      "  return super().drop(\n"
     ]
    }
   ],
   "source": [
    "divvy_cleaned.drop(divvy_cleaned[divvy_cleaned.Year_Month == 20218].index,inplace=True)\n",
    "divvy_cleaned.drop(divvy_cleaned[divvy_cleaned.Year_Month == 20219].index,inplace=True)\n",
    "divvy_cleaned.drop(divvy_cleaned[divvy_cleaned.Year_Month == 202110].index,inplace=True)\n",
    "divvy_cleaned.drop(divvy_cleaned[divvy_cleaned.Year_Month == 202111].index,inplace=True)\n",
    "divvy_cleaned.drop(divvy_cleaned[divvy_cleaned.Year_Month == 202112].index,inplace=True)"
   ]
  },
  {
   "cell_type": "code",
   "execution_count": 38,
   "id": "a724eb87",
   "metadata": {},
   "outputs": [
    {
     "data": {
      "text/plain": [
       "24.36273570603318"
      ]
     },
     "execution_count": 38,
     "metadata": {},
     "output_type": "execute_result"
    }
   ],
   "source": [
    "divvy_cleaned['ride_min'].mean()"
   ]
  },
  {
   "cell_type": "code",
   "execution_count": 39,
   "id": "841c22e8",
   "metadata": {},
   "outputs": [
    {
     "data": {
      "text/plain": [
       "ride_id                        object\n",
       "rideable_type                  object\n",
       "started_at             datetime64[ns]\n",
       "ended_at               datetime64[ns]\n",
       "start_station_name             object\n",
       "start_station_id               object\n",
       "end_station_name               object\n",
       "end_station_id                 object\n",
       "start_lat                     float64\n",
       "start_lng                     float64\n",
       "end_lat                       float64\n",
       "end_lng                       float64\n",
       "member_casual                  object\n",
       "ride_length           timedelta64[ns]\n",
       "ride_min                      float64\n",
       "day_of_week                     int64\n",
       "Month                           int64\n",
       "Year                            int64\n",
       "new_year_month                 object\n",
       "Year_Month                      int64\n",
       "dtype: object"
      ]
     },
     "execution_count": 39,
     "metadata": {},
     "output_type": "execute_result"
    }
   ],
   "source": [
    "divvy_cleaned.dtypes"
   ]
  },
  {
   "cell_type": "code",
   "execution_count": 40,
   "id": "bf65fa5c",
   "metadata": {},
   "outputs": [
    {
     "data": {
      "text/html": [
       "<div>\n",
       "<style scoped>\n",
       "    .dataframe tbody tr th:only-of-type {\n",
       "        vertical-align: middle;\n",
       "    }\n",
       "\n",
       "    .dataframe tbody tr th {\n",
       "        vertical-align: top;\n",
       "    }\n",
       "\n",
       "    .dataframe thead th {\n",
       "        text-align: right;\n",
       "    }\n",
       "</style>\n",
       "<table border=\"1\" class=\"dataframe\">\n",
       "  <thead>\n",
       "    <tr style=\"text-align: right;\">\n",
       "      <th></th>\n",
       "      <th>ride_id</th>\n",
       "      <th>rideable_type</th>\n",
       "      <th>started_at</th>\n",
       "      <th>ended_at</th>\n",
       "      <th>start_station_name</th>\n",
       "      <th>start_station_id</th>\n",
       "      <th>end_station_name</th>\n",
       "      <th>end_station_id</th>\n",
       "      <th>start_lat</th>\n",
       "      <th>start_lng</th>\n",
       "      <th>end_lat</th>\n",
       "      <th>end_lng</th>\n",
       "      <th>member_casual</th>\n",
       "      <th>ride_length</th>\n",
       "      <th>ride_min</th>\n",
       "      <th>day_of_week</th>\n",
       "      <th>Month</th>\n",
       "      <th>Year</th>\n",
       "      <th>new_year_month</th>\n",
       "      <th>Year_Month</th>\n",
       "    </tr>\n",
       "  </thead>\n",
       "  <tbody>\n",
       "    <tr>\n",
       "      <th>1</th>\n",
       "      <td>B2D5583A5A5E76EE</td>\n",
       "      <td>classic_bike</td>\n",
       "      <td>2021-07-07 16:57:42</td>\n",
       "      <td>2021-07-07 17:16:09</td>\n",
       "      <td>California Ave &amp; Cortez St</td>\n",
       "      <td>17660</td>\n",
       "      <td>Wood St &amp; Hubbard St</td>\n",
       "      <td>13432</td>\n",
       "      <td>41.900363</td>\n",
       "      <td>-87.696704</td>\n",
       "      <td>41.889899</td>\n",
       "      <td>-87.671473</td>\n",
       "      <td>casual</td>\n",
       "      <td>0 days 00:18:27</td>\n",
       "      <td>18.0</td>\n",
       "      <td>2</td>\n",
       "      <td>7</td>\n",
       "      <td>2021</td>\n",
       "      <td>2021-07</td>\n",
       "      <td>20217</td>\n",
       "    </tr>\n",
       "    <tr>\n",
       "      <th>3</th>\n",
       "      <td>379B58EAB20E8AA5</td>\n",
       "      <td>classic_bike</td>\n",
       "      <td>2021-07-08 22:08:30</td>\n",
       "      <td>2021-07-08 22:23:32</td>\n",
       "      <td>California Ave &amp; Cortez St</td>\n",
       "      <td>17660</td>\n",
       "      <td>Carpenter St &amp; Huron St</td>\n",
       "      <td>13196</td>\n",
       "      <td>41.900363</td>\n",
       "      <td>-87.696704</td>\n",
       "      <td>41.894556</td>\n",
       "      <td>-87.653449</td>\n",
       "      <td>member</td>\n",
       "      <td>0 days 00:15:02</td>\n",
       "      <td>15.0</td>\n",
       "      <td>3</td>\n",
       "      <td>7</td>\n",
       "      <td>2021</td>\n",
       "      <td>2021-07</td>\n",
       "      <td>20217</td>\n",
       "    </tr>\n",
       "    <tr>\n",
       "      <th>4</th>\n",
       "      <td>6615C1E4EB08E8FB</td>\n",
       "      <td>electric_bike</td>\n",
       "      <td>2021-07-28 16:08:06</td>\n",
       "      <td>2021-07-28 16:27:09</td>\n",
       "      <td>California Ave &amp; Cortez St</td>\n",
       "      <td>17660</td>\n",
       "      <td>Elizabeth (May) St &amp; Fulton St</td>\n",
       "      <td>13197</td>\n",
       "      <td>41.900350</td>\n",
       "      <td>-87.696682</td>\n",
       "      <td>41.886593</td>\n",
       "      <td>-87.658387</td>\n",
       "      <td>casual</td>\n",
       "      <td>0 days 00:19:03</td>\n",
       "      <td>19.0</td>\n",
       "      <td>2</td>\n",
       "      <td>7</td>\n",
       "      <td>2021</td>\n",
       "      <td>2021-07</td>\n",
       "      <td>20217</td>\n",
       "    </tr>\n",
       "  </tbody>\n",
       "</table>\n",
       "</div>"
      ],
      "text/plain": [
       "            ride_id  rideable_type          started_at            ended_at  \\\n",
       "1  B2D5583A5A5E76EE   classic_bike 2021-07-07 16:57:42 2021-07-07 17:16:09   \n",
       "3  379B58EAB20E8AA5   classic_bike 2021-07-08 22:08:30 2021-07-08 22:23:32   \n",
       "4  6615C1E4EB08E8FB  electric_bike 2021-07-28 16:08:06 2021-07-28 16:27:09   \n",
       "\n",
       "           start_station_name start_station_id  \\\n",
       "1  California Ave & Cortez St            17660   \n",
       "3  California Ave & Cortez St            17660   \n",
       "4  California Ave & Cortez St            17660   \n",
       "\n",
       "                 end_station_name end_station_id  start_lat  start_lng  \\\n",
       "1            Wood St & Hubbard St          13432  41.900363 -87.696704   \n",
       "3         Carpenter St & Huron St          13196  41.900363 -87.696704   \n",
       "4  Elizabeth (May) St & Fulton St          13197  41.900350 -87.696682   \n",
       "\n",
       "     end_lat    end_lng member_casual     ride_length  ride_min  day_of_week  \\\n",
       "1  41.889899 -87.671473        casual 0 days 00:18:27      18.0            2   \n",
       "3  41.894556 -87.653449        member 0 days 00:15:02      15.0            3   \n",
       "4  41.886593 -87.658387        casual 0 days 00:19:03      19.0            2   \n",
       "\n",
       "   Month  Year new_year_month  Year_Month  \n",
       "1      7  2021        2021-07       20217  \n",
       "3      7  2021        2021-07       20217  \n",
       "4      7  2021        2021-07       20217  "
      ]
     },
     "execution_count": 40,
     "metadata": {},
     "output_type": "execute_result"
    }
   ],
   "source": [
    "divvy_cleaned.head(3)"
   ]
  },
  {
   "cell_type": "code",
   "execution_count": 41,
   "id": "30edc9e1",
   "metadata": {},
   "outputs": [
    {
     "data": {
      "text/plain": [
       "<seaborn.axisgrid.FacetGrid at 0x19711c819d0>"
      ]
     },
     "execution_count": 41,
     "metadata": {},
     "output_type": "execute_result"
    },
    {
     "data": {
      "image/png": "[encoded data removed]",
      "text/plain": [
       "<Figure size 458.625x360 with 1 Axes>"
      ]
     },
     "metadata": {
      "needs_background": "light"
     },
     "output_type": "display_data"
    }
   ],
   "source": [
    "sns.catplot(data=divvy_cleaned,x='member_casual',y='ride_min',hue='rideable_type',kind='bar')"
   ]
  },
  {
   "cell_type": "code",
   "execution_count": 41,
   "id": "dc292498",
   "metadata": {},
   "outputs": [
    {
     "data": {
      "image/png": "[encoded data removed]",
      "text/plain": [
       "<Figure size 807.125x360 with 1 Axes>"
      ]
     },
     "metadata": {
      "needs_background": "light"
     },
     "output_type": "display_data"
    }
   ],
   "source": [
    "bar_chart = sns.relplot(data=divvy_cleaned,x='new_year_month',y='ride_min',hue='member_casual',kind='line',\n",
    "            ci=False,aspect=2)"
   ]
  },
  {
   "cell_type": "code",
   "execution_count": 42,
   "id": "a774cc01",
   "metadata": {
    "scrolled": false
   },
   "outputs": [
    {
     "data": {
      "text/plain": [
       "<seaborn.axisgrid.FacetGrid at 0x290e5ed7940>"
      ]
     },
     "execution_count": 42,
     "metadata": {},
     "output_type": "execute_result"
    },
    {
     "data": {
      "image/png": "[encoded data removed]",
      "text/plain": [
       "<Figure size 447.125x360 with 1 Axes>"
      ]
     },
     "metadata": {
      "needs_background": "light"
     },
     "output_type": "display_data"
    }
   ],
   "source": [
    "sns.catplot(data=divvy_cleaned,x='day_of_week',y='ride_min',hue='member_casual',kind='bar')"
   ]
  },
  {
   "cell_type": "code",
   "execution_count": 43,
   "id": "725c8fed",
   "metadata": {},
   "outputs": [
    {
     "data": {
      "text/plain": [
       "ride_id                        object\n",
       "rideable_type                  object\n",
       "started_at             datetime64[ns]\n",
       "ended_at               datetime64[ns]\n",
       "start_station_name             object\n",
       "start_station_id               object\n",
       "end_station_name               object\n",
       "end_station_id                 object\n",
       "start_lat                     float64\n",
       "start_lng                     float64\n",
       "end_lat                       float64\n",
       "end_lng                       float64\n",
       "member_casual                  object\n",
       "ride_length           timedelta64[ns]\n",
       "ride_min                      float64\n",
       "day_of_week                     int64\n",
       "Month                           int64\n",
       "Year                            int64\n",
       "new_year_month                 object\n",
       "Year_Month                      int64\n",
       "dtype: object"
      ]
     },
     "execution_count": 43,
     "metadata": {},
     "output_type": "execute_result"
    }
   ],
   "source": [
    "divvy_cleaned.dtypes"
   ]
  },
  {
   "cell_type": "code",
   "execution_count": 44,
   "id": "c6a47796",
   "metadata": {},
   "outputs": [
    {
     "data": {
      "text/plain": [
       "Index(['ride_id', 'rideable_type', 'started_at', 'ended_at',\n",
       "       'start_station_name', 'start_station_id', 'end_station_name',\n",
       "       'end_station_id', 'start_lat', 'start_lng', 'end_lat', 'end_lng',\n",
       "       'member_casual', 'ride_length', 'ride_min', 'day_of_week', 'Month',\n",
       "       'Year', 'new_year_month', 'Year_Month'],\n",
       "      dtype='object')"
      ]
     },
     "execution_count": 44,
     "metadata": {},
     "output_type": "execute_result"
    }
   ],
   "source": [
    "divvy_cleaned.columns"
   ]
  },
  {
   "cell_type": "code",
   "execution_count": 45,
   "id": "d915e67f",
   "metadata": {},
   "outputs": [
    {
     "name": "stderr",
     "output_type": "stream",
     "text": [
      "<ipython-input-45-2138eee9e951>:4: SettingWithCopyWarning: \n",
      "A value is trying to be set on a copy of a slice from a DataFrame.\n",
      "Try using .loc[row_indexer,col_indexer] = value instead\n",
      "\n",
      "See the caveats in the documentation: https://pandas.pydata.org/pandas-docs/stable/user_guide/indexing.html#returning-a-view-versus-a-copy\n",
      "  divvy_cleaned[x]=divvy_cleaned[x].astype('object')\n"
     ]
    }
   ],
   "source": [
    "for x in ['ride_id', 'rideable_type', 'start_station_name', 'start_station_id', 'end_station_name',\n",
    "           'end_station_id','member_casual', 'day_of_week', 'Month','Year', 'Year_Month', 'new_year_month']:\n",
    "    \n",
    "    divvy_cleaned[x]=divvy_cleaned[x].astype('object')"
   ]
  },
  {
   "cell_type": "code",
   "execution_count": 52,
   "id": "de0bb2f1",
   "metadata": {},
   "outputs": [
    {
     "data": {
      "text/plain": [
       "ride_id                        object\n",
       "rideable_type                  object\n",
       "started_at             datetime64[ns]\n",
       "ended_at               datetime64[ns]\n",
       "start_station_name             object\n",
       "start_station_id               object\n",
       "end_station_name               object\n",
       "end_station_id                 object\n",
       "start_lat                     float64\n",
       "start_lng                     float64\n",
       "end_lat                       float64\n",
       "end_lng                       float64\n",
       "member_casual                  object\n",
       "ride_length           timedelta64[ns]\n",
       "ride_min                      float64\n",
       "day_of_week                    object\n",
       "Month                          object\n",
       "Year                           object\n",
       "new_year_month                 object\n",
       "Year_Month                     object\n",
       "dtype: object"
      ]
     },
     "execution_count": 52,
     "metadata": {},
     "output_type": "execute_result"
    }
   ],
   "source": [
    "divvy_cleaned.dtypes"
   ]
  },
  {
   "cell_type": "code",
   "execution_count": 53,
   "id": "06692704",
   "metadata": {},
   "outputs": [
    {
     "name": "stdout",
     "output_type": "stream",
     "text": [
      "Information for the  Cyclitic Divvy Case Study, duration for cyclist(minutes) :\n",
      "\n",
      "Rows number : 4053301\n",
      "\n",
      "Mean : 24.36273570603318\n",
      "\n",
      "Median : 13.0\n",
      "\n",
      "Standard deviation : 261.4385829818866\n",
      "\n",
      "Variance : 68350.13267157682\n",
      "\n",
      "Mininum duration : 0.0\n",
      "\n",
      "Maximum duration : 132350.0\n",
      "\n",
      "day_of_week : 0    6.0\n",
      "dtype: float64\n",
      "\n"
     ]
    }
   ],
   "source": [
    "# print('divvy_cleaned is: ', divvy_cleaned.shape)\n",
    "# print('divvy_cleaned is: ', divvy_cleaned.shape)\n",
    "# # count\n",
    "# # isnull\n",
    "# # is negative\n",
    "# # sum\n",
    "# # mean\n",
    "# # median\n",
    "# # std\n",
    "# # var\n",
    "# # min\n",
    "# # max\n",
    "\n",
    "print('Information for the  Cyclitic Divvy Case Study, duration for cyclist(minutes) :')\n",
    "print('')\n",
    "print('Rows number :',divvy_cleaned['ride_min'].count())\n",
    "print('')\n",
    "print('Mean :',divvy_cleaned['ride_min'].mean())\n",
    "print('')\n",
    "print('Median :',divvy_cleaned['ride_min'].median())\n",
    "print('')\n",
    "print('Standard deviation :',divvy_cleaned['ride_min'].std())\n",
    "print('')\n",
    "print('Variance :',divvy_cleaned['ride_min'].var())\n",
    "print('')\n",
    "print('Mininum duration :',divvy_cleaned['ride_min'].min())\n",
    "print('')\n",
    "print('Maximum duration :',divvy_cleaned['ride_min'].max())\n",
    "print('')\n",
    "print('day_of_week :',divvy_cleaned['ride_min'].mode())\n",
    "print('')"
   ]
  },
  {
   "cell_type": "code",
   "execution_count": null,
   "id": "5766fe24",
   "metadata": {},
   "outputs": [],
   "source": [
    "# sns.displot(divvy_cleaned.ride_min,color='red',aspect=2)"
   ]
  }
 ],
 "metadata": {
  "kernelspec": {
   "display_name": "Python 3",
   "language": "python",
   "name": "python3"
  },
  "language_info": {
   "codemirror_mode": {
    "name": "ipython",
    "version": 3
   },
   "file_extension": ".py",
   "mimetype": "text/x-python",
   "name": "python",
   "nbconvert_exporter": "python",
   "pygments_lexer": "ipython3",
   "version": "3.8.8"
  }
 },
 "nbformat": 4,
 "nbformat_minor": 5
}
